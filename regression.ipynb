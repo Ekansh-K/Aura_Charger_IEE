{
 "cells": [
  {
   "cell_type": "markdown",
   "metadata": {},
   "source": [
    "# Regression model for SOH prediction "
   ]
  },
  {
   "cell_type": "markdown",
   "metadata": {},
   "source": [
    "For a resource-constrained device like the ESP32, random forest regression is generally a better choice compared to RNN, because it is computationally lighter and easier to implement. "
   ]
  },
  {
   "cell_type": "markdown",
   "metadata": {},
   "source": [
    " we will use the Random Forest regression model to predict the state of health (SOH) of a battery. \n"
   ]
  },
  {
   "cell_type": "code",
   "execution_count": 18,
   "metadata": {},
   "outputs": [],
   "source": [
    "import pandas as pd\n",
    "import numpy as np\n",
    "import matplotlib.pyplot as plt\n",
    "import seaborn as sns\n",
    "from sklearn.preprocessing import  StandardScaler\n",
    "from sklearn.model_selection import train_test_split\n",
    "from sklearn.metrics import mean_squared_error, r2_score\n"
   ]
  },
  {
   "cell_type": "markdown",
   "metadata": {},
   "source": [
    "about the data:"
   ]
  },
  {
   "cell_type": "code",
   "execution_count": 33,
   "metadata": {},
   "outputs": [
    {
     "data": {
      "text/html": [
       "<div>\n",
       "<style scoped>\n",
       "    .dataframe tbody tr th:only-of-type {\n",
       "        vertical-align: middle;\n",
       "    }\n",
       "\n",
       "    .dataframe tbody tr th {\n",
       "        vertical-align: top;\n",
       "    }\n",
       "\n",
       "    .dataframe thead th {\n",
       "        text-align: right;\n",
       "    }\n",
       "</style>\n",
       "<table border=\"1\" class=\"dataframe\">\n",
       "  <thead>\n",
       "    <tr style=\"text-align: right;\">\n",
       "      <th></th>\n",
       "      <th>Voltage</th>\n",
       "      <th>Current</th>\n",
       "      <th>Battery Temperature (°C)</th>\n",
       "      <th>Environmental Temperature (°C)</th>\n",
       "      <th>Cycle Count</th>\n",
       "      <th>Battery Age (Days)</th>\n",
       "      <th>Unnamed: 6</th>\n",
       "      <th>SOC (%)</th>\n",
       "      <th>SOH (%)</th>\n",
       "    </tr>\n",
       "  </thead>\n",
       "  <tbody>\n",
       "    <tr>\n",
       "      <th>0</th>\n",
       "      <td>3.2</td>\n",
       "      <td>0.50</td>\n",
       "      <td>25</td>\n",
       "      <td>22</td>\n",
       "      <td>10</td>\n",
       "      <td>30</td>\n",
       "      <td>NaN</td>\n",
       "      <td>20</td>\n",
       "      <td>98</td>\n",
       "    </tr>\n",
       "    <tr>\n",
       "      <th>1</th>\n",
       "      <td>3.3</td>\n",
       "      <td>0.60</td>\n",
       "      <td>26</td>\n",
       "      <td>23</td>\n",
       "      <td>20</td>\n",
       "      <td>60</td>\n",
       "      <td>NaN</td>\n",
       "      <td>30</td>\n",
       "      <td>97</td>\n",
       "    </tr>\n",
       "    <tr>\n",
       "      <th>2</th>\n",
       "      <td>3.4</td>\n",
       "      <td>0.58</td>\n",
       "      <td>26</td>\n",
       "      <td>23</td>\n",
       "      <td>25</td>\n",
       "      <td>75</td>\n",
       "      <td>NaN</td>\n",
       "      <td>35</td>\n",
       "      <td>96</td>\n",
       "    </tr>\n",
       "    <tr>\n",
       "      <th>3</th>\n",
       "      <td>3.5</td>\n",
       "      <td>0.55</td>\n",
       "      <td>27</td>\n",
       "      <td>23</td>\n",
       "      <td>30</td>\n",
       "      <td>90</td>\n",
       "      <td>NaN</td>\n",
       "      <td>40</td>\n",
       "      <td>96</td>\n",
       "    </tr>\n",
       "    <tr>\n",
       "      <th>4</th>\n",
       "      <td>3.6</td>\n",
       "      <td>0.60</td>\n",
       "      <td>27</td>\n",
       "      <td>24</td>\n",
       "      <td>35</td>\n",
       "      <td>105</td>\n",
       "      <td>NaN</td>\n",
       "      <td>45</td>\n",
       "      <td>95</td>\n",
       "    </tr>\n",
       "  </tbody>\n",
       "</table>\n",
       "</div>"
      ],
      "text/plain": [
       "   Voltage  Current  Battery Temperature (°C)  Environmental Temperature (°C)  \\\n",
       "0      3.2     0.50                        25                              22   \n",
       "1      3.3     0.60                        26                              23   \n",
       "2      3.4     0.58                        26                              23   \n",
       "3      3.5     0.55                        27                              23   \n",
       "4      3.6     0.60                        27                              24   \n",
       "\n",
       "   Cycle Count  Battery Age (Days)  Unnamed: 6  SOC (%)  SOH (%)  \n",
       "0           10                  30         NaN       20       98  \n",
       "1           20                  60         NaN       30       97  \n",
       "2           25                  75         NaN       35       96  \n",
       "3           30                  90         NaN       40       96  \n",
       "4           35                 105         NaN       45       95  "
      ]
     },
     "metadata": {},
     "output_type": "display_data"
    },
    {
     "data": {
      "text/html": [
       "<div>\n",
       "<style scoped>\n",
       "    .dataframe tbody tr th:only-of-type {\n",
       "        vertical-align: middle;\n",
       "    }\n",
       "\n",
       "    .dataframe tbody tr th {\n",
       "        vertical-align: top;\n",
       "    }\n",
       "\n",
       "    .dataframe thead th {\n",
       "        text-align: right;\n",
       "    }\n",
       "</style>\n",
       "<table border=\"1\" class=\"dataframe\">\n",
       "  <thead>\n",
       "    <tr style=\"text-align: right;\">\n",
       "      <th></th>\n",
       "      <th>Voltage</th>\n",
       "      <th>Current</th>\n",
       "      <th>Battery Temperature (°C)</th>\n",
       "      <th>Environmental Temperature (°C)</th>\n",
       "      <th>Cycle Count</th>\n",
       "      <th>Battery Age (Days)</th>\n",
       "      <th>Unnamed: 6</th>\n",
       "      <th>SOC (%)</th>\n",
       "      <th>SOH (%)</th>\n",
       "    </tr>\n",
       "  </thead>\n",
       "  <tbody>\n",
       "    <tr>\n",
       "      <th>count</th>\n",
       "      <td>45.000000</td>\n",
       "      <td>45.000000</td>\n",
       "      <td>45.000000</td>\n",
       "      <td>45.000000</td>\n",
       "      <td>45.000000</td>\n",
       "      <td>45.000000</td>\n",
       "      <td>0.0</td>\n",
       "      <td>45.000000</td>\n",
       "      <td>45.000000</td>\n",
       "    </tr>\n",
       "    <tr>\n",
       "      <th>mean</th>\n",
       "      <td>3.960667</td>\n",
       "      <td>0.763778</td>\n",
       "      <td>30.444444</td>\n",
       "      <td>25.755556</td>\n",
       "      <td>92.488889</td>\n",
       "      <td>278.000000</td>\n",
       "      <td>NaN</td>\n",
       "      <td>67.822222</td>\n",
       "      <td>88.244444</td>\n",
       "    </tr>\n",
       "    <tr>\n",
       "      <th>std</th>\n",
       "      <td>0.297798</td>\n",
       "      <td>0.186344</td>\n",
       "      <td>3.539103</td>\n",
       "      <td>2.970733</td>\n",
       "      <td>42.976538</td>\n",
       "      <td>129.484994</td>\n",
       "      <td>NaN</td>\n",
       "      <td>22.708918</td>\n",
       "      <td>5.697510</td>\n",
       "    </tr>\n",
       "    <tr>\n",
       "      <th>min</th>\n",
       "      <td>3.200000</td>\n",
       "      <td>0.400000</td>\n",
       "      <td>25.000000</td>\n",
       "      <td>20.000000</td>\n",
       "      <td>10.000000</td>\n",
       "      <td>30.000000</td>\n",
       "      <td>NaN</td>\n",
       "      <td>20.000000</td>\n",
       "      <td>77.000000</td>\n",
       "    </tr>\n",
       "    <tr>\n",
       "      <th>25%</th>\n",
       "      <td>3.750000</td>\n",
       "      <td>0.620000</td>\n",
       "      <td>28.000000</td>\n",
       "      <td>24.000000</td>\n",
       "      <td>55.000000</td>\n",
       "      <td>165.000000</td>\n",
       "      <td>NaN</td>\n",
       "      <td>50.000000</td>\n",
       "      <td>84.000000</td>\n",
       "    </tr>\n",
       "    <tr>\n",
       "      <th>50%</th>\n",
       "      <td>4.000000</td>\n",
       "      <td>0.760000</td>\n",
       "      <td>30.000000</td>\n",
       "      <td>26.000000</td>\n",
       "      <td>95.000000</td>\n",
       "      <td>285.000000</td>\n",
       "      <td>NaN</td>\n",
       "      <td>70.000000</td>\n",
       "      <td>89.000000</td>\n",
       "    </tr>\n",
       "    <tr>\n",
       "      <th>75%</th>\n",
       "      <td>4.200000</td>\n",
       "      <td>0.900000</td>\n",
       "      <td>33.000000</td>\n",
       "      <td>28.000000</td>\n",
       "      <td>130.000000</td>\n",
       "      <td>390.000000</td>\n",
       "      <td>NaN</td>\n",
       "      <td>90.000000</td>\n",
       "      <td>93.000000</td>\n",
       "    </tr>\n",
       "    <tr>\n",
       "      <th>max</th>\n",
       "      <td>4.400000</td>\n",
       "      <td>1.100000</td>\n",
       "      <td>38.000000</td>\n",
       "      <td>32.000000</td>\n",
       "      <td>158.000000</td>\n",
       "      <td>480.000000</td>\n",
       "      <td>NaN</td>\n",
       "      <td>99.000000</td>\n",
       "      <td>98.000000</td>\n",
       "    </tr>\n",
       "  </tbody>\n",
       "</table>\n",
       "</div>"
      ],
      "text/plain": [
       "         Voltage    Current  Battery Temperature (°C)  \\\n",
       "count  45.000000  45.000000                 45.000000   \n",
       "mean    3.960667   0.763778                 30.444444   \n",
       "std     0.297798   0.186344                  3.539103   \n",
       "min     3.200000   0.400000                 25.000000   \n",
       "25%     3.750000   0.620000                 28.000000   \n",
       "50%     4.000000   0.760000                 30.000000   \n",
       "75%     4.200000   0.900000                 33.000000   \n",
       "max     4.400000   1.100000                 38.000000   \n",
       "\n",
       "       Environmental Temperature (°C)  Cycle Count  Battery Age (Days)  \\\n",
       "count                       45.000000    45.000000           45.000000   \n",
       "mean                        25.755556    92.488889          278.000000   \n",
       "std                          2.970733    42.976538          129.484994   \n",
       "min                         20.000000    10.000000           30.000000   \n",
       "25%                         24.000000    55.000000          165.000000   \n",
       "50%                         26.000000    95.000000          285.000000   \n",
       "75%                         28.000000   130.000000          390.000000   \n",
       "max                         32.000000   158.000000          480.000000   \n",
       "\n",
       "       Unnamed: 6    SOC (%)    SOH (%)  \n",
       "count         0.0  45.000000  45.000000  \n",
       "mean          NaN  67.822222  88.244444  \n",
       "std           NaN  22.708918   5.697510  \n",
       "min           NaN  20.000000  77.000000  \n",
       "25%           NaN  50.000000  84.000000  \n",
       "50%           NaN  70.000000  89.000000  \n",
       "75%           NaN  90.000000  93.000000  \n",
       "max           NaN  99.000000  98.000000  "
      ]
     },
     "metadata": {},
     "output_type": "display_data"
    },
    {
     "name": "stdout",
     "output_type": "stream",
     "text": [
      "<class 'pandas.core.frame.DataFrame'>\n",
      "RangeIndex: 45 entries, 0 to 44\n",
      "Data columns (total 9 columns):\n",
      " #   Column                          Non-Null Count  Dtype  \n",
      "---  ------                          --------------  -----  \n",
      " 0   Voltage                         45 non-null     float64\n",
      " 1   Current                         45 non-null     float64\n",
      " 2   Battery Temperature (°C)        45 non-null     int64  \n",
      " 3   Environmental Temperature (°C)  45 non-null     int64  \n",
      " 4   Cycle Count                     45 non-null     int64  \n",
      " 5   Battery Age (Days)              45 non-null     int64  \n",
      " 6   Unnamed: 6                      0 non-null      float64\n",
      " 7   SOC (%)                         45 non-null     int64  \n",
      " 8   SOH (%)                         45 non-null     int64  \n",
      "dtypes: float64(3), int64(6)\n",
      "memory usage: 3.3 KB\n"
     ]
    },
    {
     "data": {
      "text/plain": [
       "None"
      ]
     },
     "metadata": {},
     "output_type": "display_data"
    }
   ],
   "source": [
    "df = pd.read_csv('data.csv')\n",
    "display(df.head())\n",
    "display(df.describe())\n",
    "display(df.info())\n"
   ]
  },
  {
   "cell_type": "markdown",
   "metadata": {},
   "source": [
    "lets remove unnecessary columns and check the correlation between the columns."
   ]
  },
  {
   "cell_type": "code",
   "execution_count": 34,
   "metadata": {},
   "outputs": [],
   "source": [
    "df.drop(['Unnamed: 6'], axis=1, inplace=True)\n",
    "df.dropna(inplace=True)\n"
   ]
  },
  {
   "cell_type": "markdown",
   "metadata": {},
   "source": [
    "Data Splitting:"
   ]
  },
  {
   "cell_type": "code",
   "execution_count": 35,
   "metadata": {},
   "outputs": [],
   "source": [
    "X = df.drop(['SOH (%)'], axis=1)\n",
    "y = df['SOH (%)']\n",
    "x_train, x_test, y_train, y_test = train_test_split(X, y, test_size=0.2, random_state=42)\n"
   ]
  },
  {
   "cell_type": "markdown",
   "metadata": {},
   "source": [
    "standardisation:"
   ]
  },
  {
   "cell_type": "code",
   "execution_count": 36,
   "metadata": {},
   "outputs": [],
   "source": [
    "SC = StandardScaler()\n",
    "x_train_scaled= SC.fit_transform(x_train)\n",
    "x_test_scaled = SC.transform(x_test)\n"
   ]
  },
  {
   "cell_type": "markdown",
   "metadata": {},
   "source": [
    "Fitting the dataset and training the model:"
   ]
  },
  {
   "cell_type": "code",
   "execution_count": 37,
   "metadata": {},
   "outputs": [
    {
     "name": "stdout",
     "output_type": "stream",
     "text": [
      "Mean Squared Error: 0.08186693688425062\n",
      "R2 Score: 0.9977551720082518\n"
     ]
    }
   ],
   "source": [
    "from sklearn.linear_model import LinearRegression\n",
    "regression = LinearRegression()\n",
    "model = regression.fit(x_train_scaled, y_train)\n",
    "y_pred = model.predict(x_test_scaled)   \n",
    "LRRMSE = mean_squared_error(y_test, y_pred)\n",
    "LRRR2 = r2_score(y_test, y_pred)\n",
    "print('Mean Squared Error:', mean_squared_error(y_test, y_pred))\n",
    "print('R2 Score:', r2_score(y_test, y_pred))\n"
   ]
  },
  {
   "cell_type": "code",
   "execution_count": 38,
   "metadata": {},
   "outputs": [
    {
     "name": "stdout",
     "output_type": "stream",
     "text": [
      "Mean Squared Error: 1.8888888888888888\n",
      "R2 Score: 0.9482058226134056\n"
     ]
    }
   ],
   "source": [
    "from sklearn.linear_model import LogisticRegression\n",
    "regression = LogisticRegression()\n",
    "model = regression.fit(x_train_scaled, y_train)\n",
    "y_pred = model.predict(x_test_scaled)   \n",
    "LORRMSE = mean_squared_error(y_test, y_pred)\n",
    "LORR2 = r2_score(y_test, y_pred)\n",
    "print('Mean Squared Error:', mean_squared_error(y_test, y_pred))\n",
    "print('R2 Score:', r2_score(y_test, y_pred))"
   ]
  },
  {
   "cell_type": "code",
   "execution_count": 39,
   "metadata": {},
   "outputs": [
    {
     "name": "stdout",
     "output_type": "stream",
     "text": [
      "Mean Squared Error: 0.6666666666666666\n",
      "R2 Score: 0.9817197020988491\n"
     ]
    }
   ],
   "source": [
    "from sklearn.tree import DecisionTreeRegressor\n",
    "regression = DecisionTreeRegressor()\n",
    "model = regression.fit(x_train_scaled, y_train)\n",
    "y_pred = model.predict(x_test_scaled)   \n",
    "DTRRMSE = mean_squared_error(y_test, y_pred)\n",
    "DTRR2 = r2_score(y_test, y_pred)\n",
    "print('Mean Squared Error:', mean_squared_error(y_test, y_pred))\n",
    "print('R2 Score:', r2_score(y_test, y_pred))"
   ]
  },
  {
   "cell_type": "code",
   "execution_count": 40,
   "metadata": {},
   "outputs": [
    {
     "name": "stdout",
     "output_type": "stream",
     "text": [
      "Mean Squared Error:  0.3890486031812318\n",
      "R2 Score: 0.9893321134537306\n"
     ]
    }
   ],
   "source": [
    "from sklearn.ensemble import GradientBoostingRegressor\n",
    "regression = GradientBoostingRegressor()\n",
    "model = regression.fit(x_train_scaled, y_train)\n",
    "y_pred = model.predict(x_test_scaled)\n",
    "GBRRMSE = mean_squared_error(y_test, y_pred)\n",
    "GBRR2 = r2_score(y_test, y_pred)\n",
    "print('Mean Squared Error: ',mean_squared_error(y_test, y_pred))\n",
    "print('R2 Score:', r2_score(y_test, y_pred))\n"
   ]
  },
  {
   "cell_type": "code",
   "execution_count": 41,
   "metadata": {},
   "outputs": [
    {
     "name": "stdout",
     "output_type": "stream",
     "text": [
      "Mean Squared Error: 0.2639999999999991\n",
      "R2 Score: 0.9927610020311443\n"
     ]
    }
   ],
   "source": [
    "from sklearn.ensemble import RandomForestRegressor\n",
    "regression = RandomForestRegressor()\n",
    "model = regression.fit(x_train_scaled, y_train)\n",
    "y_pred = model.predict(x_test_scaled)   \n",
    "RFMSE = mean_squared_error(y_test, y_pred)\n",
    "RFR2 = r2_score(y_test, y_pred)\n",
    "print('Mean Squared Error:', mean_squared_error(y_test, y_pred))\n",
    "print('R2 Score:', r2_score(y_test, y_pred))"
   ]
  },
  {
   "cell_type": "code",
   "execution_count": 42,
   "metadata": {},
   "outputs": [
    {
     "name": "stdout",
     "output_type": "stream",
     "text": [
      "Mean Squared Error: 9.889554382066459\n",
      "R2 Score: 0.728823999679288\n"
     ]
    }
   ],
   "source": [
    "from sklearn.svm import SVR\n",
    "regression = SVR()\n",
    "model = regression.fit(x_train_scaled, y_train)\n",
    "y_pred = model.predict(x_test_scaled)   \n",
    "SVRMSE = mean_squared_error(y_test, y_pred)\n",
    "SVRR2 = r2_score(y_test, y_pred)\n",
    "print('Mean Squared Error:', mean_squared_error(y_test, y_pred))\n",
    "print('R2 Score:', r2_score(y_test, y_pred))"
   ]
  },
  {
   "cell_type": "markdown",
   "metadata": {},
   "source": [
    "# Best MSE AND R2 SCORE:"
   ]
  },
  {
   "cell_type": "code",
   "execution_count": 43,
   "metadata": {},
   "outputs": [
    {
     "data": {
      "text/html": [
       "<div>\n",
       "<style scoped>\n",
       "    .dataframe tbody tr th:only-of-type {\n",
       "        vertical-align: middle;\n",
       "    }\n",
       "\n",
       "    .dataframe tbody tr th {\n",
       "        vertical-align: top;\n",
       "    }\n",
       "\n",
       "    .dataframe thead th {\n",
       "        text-align: right;\n",
       "    }\n",
       "</style>\n",
       "<table border=\"1\" class=\"dataframe\">\n",
       "  <thead>\n",
       "    <tr style=\"text-align: right;\">\n",
       "      <th></th>\n",
       "      <th>Model</th>\n",
       "      <th>MSE</th>\n",
       "      <th>R2</th>\n",
       "    </tr>\n",
       "  </thead>\n",
       "  <tbody>\n",
       "    <tr>\n",
       "      <th>0</th>\n",
       "      <td>Linear Regression</td>\n",
       "      <td>0.081867</td>\n",
       "      <td>0.997755</td>\n",
       "    </tr>\n",
       "    <tr>\n",
       "      <th>1</th>\n",
       "      <td>Logistic Regression</td>\n",
       "      <td>1.888889</td>\n",
       "      <td>0.948206</td>\n",
       "    </tr>\n",
       "    <tr>\n",
       "      <th>2</th>\n",
       "      <td>DecisionTrees</td>\n",
       "      <td>0.666667</td>\n",
       "      <td>0.981720</td>\n",
       "    </tr>\n",
       "    <tr>\n",
       "      <th>3</th>\n",
       "      <td>GradientBoosting</td>\n",
       "      <td>0.389049</td>\n",
       "      <td>0.989332</td>\n",
       "    </tr>\n",
       "    <tr>\n",
       "      <th>4</th>\n",
       "      <td>RandomForest</td>\n",
       "      <td>0.264000</td>\n",
       "      <td>0.992761</td>\n",
       "    </tr>\n",
       "    <tr>\n",
       "      <th>5</th>\n",
       "      <td>SVR</td>\n",
       "      <td>9.889554</td>\n",
       "      <td>0.728824</td>\n",
       "    </tr>\n",
       "  </tbody>\n",
       "</table>\n",
       "</div>"
      ],
      "text/plain": [
       "                 Model       MSE        R2\n",
       "0    Linear Regression  0.081867  0.997755\n",
       "1  Logistic Regression  1.888889  0.948206\n",
       "2        DecisionTrees  0.666667  0.981720\n",
       "3     GradientBoosting  0.389049  0.989332\n",
       "4         RandomForest  0.264000  0.992761\n",
       "5                  SVR  9.889554  0.728824"
      ]
     },
     "metadata": {},
     "output_type": "display_data"
    },
    {
     "name": "stdout",
     "output_type": "stream",
     "text": [
      "Best Model is Linear Regression.\n"
     ]
    }
   ],
   "source": [
    "data = {\n",
    "    'Model': ['Linear Regression','Logistic Regression','DecisionTrees','GradientBoosting','RandomForest','SVR'],\n",
    "    'MSE': [LRRMSE, LORRMSE, DTRRMSE, GBRRMSE, RFMSE, SVRMSE],\n",
    "    'R2': [LRRR2, LORR2, DTRR2, GBRR2, RFR2, SVRR2]\n",
    "}\n",
    "table = pd.DataFrame(data)\n",
    "display(table)\n",
    "\n",
    "print(\"Best Model is Linear Regression.\")"
   ]
  }
 ],
 "metadata": {
  "kernelspec": {
   "display_name": "Python 3",
   "language": "python",
   "name": "python3"
  },
  "language_info": {
   "codemirror_mode": {
    "name": "ipython",
    "version": 3
   },
   "file_extension": ".py",
   "mimetype": "text/x-python",
   "name": "python",
   "nbconvert_exporter": "python",
   "pygments_lexer": "ipython3",
   "version": "3.13.1"
  }
 },
 "nbformat": 4,
 "nbformat_minor": 2
}
