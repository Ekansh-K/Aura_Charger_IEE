{
 "cells": [
  {
   "cell_type": "markdown",
   "metadata": {},
   "source": [
    "# ML model for AURA CHARGE"
   ]
  },
  {
   "cell_type": "markdown",
   "metadata": {},
   "source": [
    "First lets discuss about the dataset now."
   ]
  },
  {
   "cell_type": "code",
   "execution_count": 5,
   "metadata": {},
   "outputs": [
    {
     "data": {
      "text/html": [
       "<div>\n",
       "<style scoped>\n",
       "    .dataframe tbody tr th:only-of-type {\n",
       "        vertical-align: middle;\n",
       "    }\n",
       "\n",
       "    .dataframe tbody tr th {\n",
       "        vertical-align: top;\n",
       "    }\n",
       "\n",
       "    .dataframe thead th {\n",
       "        text-align: right;\n",
       "    }\n",
       "</style>\n",
       "<table border=\"1\" class=\"dataframe\">\n",
       "  <thead>\n",
       "    <tr style=\"text-align: right;\">\n",
       "      <th></th>\n",
       "      <th>Timestamp</th>\n",
       "      <th>Voltage (V)</th>\n",
       "      <th>Current (A)</th>\n",
       "      <th>Temperature (°C)</th>\n",
       "      <th>SOC (%)</th>\n",
       "      <th>SOH (%)</th>\n",
       "      <th>Cycles</th>\n",
       "    </tr>\n",
       "  </thead>\n",
       "  <tbody>\n",
       "    <tr>\n",
       "      <th>0</th>\n",
       "      <td>2024-12-10 22:17:53.285091</td>\n",
       "      <td>3.521483</td>\n",
       "      <td>0.015893</td>\n",
       "      <td>29.278174</td>\n",
       "      <td>0.0000</td>\n",
       "      <td>99.371976</td>\n",
       "      <td>445</td>\n",
       "    </tr>\n",
       "    <tr>\n",
       "      <th>1</th>\n",
       "      <td>2024-12-10 22:18:03.285091</td>\n",
       "      <td>3.603086</td>\n",
       "      <td>0.585549</td>\n",
       "      <td>36.445976</td>\n",
       "      <td>0.1001</td>\n",
       "      <td>92.351841</td>\n",
       "      <td>183</td>\n",
       "    </tr>\n",
       "    <tr>\n",
       "      <th>2</th>\n",
       "      <td>2024-12-10 22:18:13.285091</td>\n",
       "      <td>3.528906</td>\n",
       "      <td>0.595920</td>\n",
       "      <td>35.506323</td>\n",
       "      <td>0.2002</td>\n",
       "      <td>97.243869</td>\n",
       "      <td>66</td>\n",
       "    </tr>\n",
       "    <tr>\n",
       "      <th>3</th>\n",
       "      <td>2024-12-10 22:18:23.285091</td>\n",
       "      <td>4.132919</td>\n",
       "      <td>0.294674</td>\n",
       "      <td>34.934399</td>\n",
       "      <td>0.3003</td>\n",
       "      <td>85.484806</td>\n",
       "      <td>486</td>\n",
       "    </tr>\n",
       "    <tr>\n",
       "      <th>4</th>\n",
       "      <td>2024-12-10 22:18:33.285091</td>\n",
       "      <td>3.807145</td>\n",
       "      <td>1.256976</td>\n",
       "      <td>36.193535</td>\n",
       "      <td>0.4004</td>\n",
       "      <td>96.500342</td>\n",
       "      <td>282</td>\n",
       "    </tr>\n",
       "  </tbody>\n",
       "</table>\n",
       "</div>"
      ],
      "text/plain": [
       "                    Timestamp  Voltage (V)  Current (A)  Temperature (°C)  \\\n",
       "0  2024-12-10 22:17:53.285091     3.521483     0.015893         29.278174   \n",
       "1  2024-12-10 22:18:03.285091     3.603086     0.585549         36.445976   \n",
       "2  2024-12-10 22:18:13.285091     3.528906     0.595920         35.506323   \n",
       "3  2024-12-10 22:18:23.285091     4.132919     0.294674         34.934399   \n",
       "4  2024-12-10 22:18:33.285091     3.807145     1.256976         36.193535   \n",
       "\n",
       "   SOC (%)    SOH (%)  Cycles  \n",
       "0   0.0000  99.371976     445  \n",
       "1   0.1001  92.351841     183  \n",
       "2   0.2002  97.243869      66  \n",
       "3   0.3003  85.484806     486  \n",
       "4   0.4004  96.500342     282  "
      ]
     },
     "execution_count": 5,
     "metadata": {},
     "output_type": "execute_result"
    }
   ],
   "source": [
    "import pandas as pd\n",
    "\n",
    "df = pd.read_csv(\"dataset.csv\")\n",
    "df.head()"
   ]
  },
  {
   "cell_type": "markdown",
   "metadata": {},
   "source": []
  }
 ],
 "metadata": {
  "kernelspec": {
   "display_name": "Python 3",
   "language": "python",
   "name": "python3"
  },
  "language_info": {
   "codemirror_mode": {
    "name": "ipython",
    "version": 3
   },
   "file_extension": ".py",
   "mimetype": "text/x-python",
   "name": "python",
   "nbconvert_exporter": "python",
   "pygments_lexer": "ipython3",
   "version": "3.13.0"
  }
 },
 "nbformat": 4,
 "nbformat_minor": 2
}
