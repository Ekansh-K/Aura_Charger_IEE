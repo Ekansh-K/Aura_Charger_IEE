{
 "cells": [
  {
   "cell_type": "markdown",
   "metadata": {},
   "source": [
    "# Creating and understanding the features of the model and the Characteristics of the Dataset\n",
    "\n",
    "\n",
    "- This project aims to Create a USB charger with an RGB wire that displays charge levels based on color.\n",
    "\n",
    "\n",
    "- The ML model will be used to predict the SOH% of the battery.\n",
    "\n",
    "---\n",
    "The model will be trained on the battery's charging and discharging data.\n",
    "\n",
    "Data can be collected everytime you plug in charge, and when you remove the charger, the stats collected can be the entries for the model.\n",
    "\n",
    "- Features: Voltage, Current, Battery Temperature, Environmental Temperature, Cycle Count, Battery Age, SOC%\n",
    "- Outputs: SOH% \n",
    "\n",
    "\n",
    "- Voltage: The voltage of the battery (in volts).\n",
    "- Current: The current flowing through the battery (in amperes).\n",
    "- Battery Temperature (°C): The temperature of the battery (in degrees Celsius).\n",
    "- Environmental Temperature (°C): The ambient temperature around the battery (in degrees Celsius).\n",
    "- Cycle Count: The number of charge-discharge cycles the battery has undergone.\n",
    "- Battery Age (Days): The age of the battery (in days).\n",
    "- SOC (%): The State of Charge, representing the current charge level of the battery (in percentage).\n",
    "- SOH (%): The State of Health, representing the overall health and capacity of the battery compared to its original state (in percentage).\n",
    "\n",
    "- As a battery ages and its life decreases, the time it takes to charge typically increases.\n",
    "- A higher temperature generally leads to a shorter battery life.\n",
    "\n",
    "\n",
    "> relation with battery life and temperature.\n",
    "charging temps do matter. as a matter of fact, more temp can be bad for the battery and lead to lesser life.\n",
    "we can do it this way: keep a points system. if the battery temp for almost 5 charges is too high than a \"threshold\" temperature, then point can be added. and if the points exceed a certain limit, then the battery is considered to be in bad condition, or we can say it has impacted the life of the battery.\n"
   ]
  },
  {
   "cell_type": "raw",
   "metadata": {},
   "source": [
    "Battery_Type,Time_to_Full_Charge,Max_Temp_During_Charging,Rate_of_Charge,Rate_of_Discharge,Correction_Factor,Battery_Life,Replacement_Needed,New_Predicted_Total_Charging_Time\n",
    "Lithium-ion,150,65,0.8,0.7,1.3,4,Yes,195\n",
    "Nickel-cadmium,90,30,1.2,1.1,0.9,20,No,81\n",
    "Nickel-metal hydride,130,50,0.9,0.8,1.2,8,Yes,156\n",
    "Lithium-ion,110,25,1.1,1.0,0.8,24,No,88\n",
    "Nickel-cadmium,140,40,1.0,0.9,1.1,12,No,154\n",
    "Nickel-metal hydride,100,35,1.05,0.95,1.0,18,No,100\n",
    "Lithium-ion,120,70,0.7,0.6,1.4,2,Yes,168\n",
    "Nickel-cadmium,80,20,1.3,1.2,0.7,28,No,56\n",
    "Nickel-metal hydride,160,55,0.85,0.75,1.25,6,Yes,200\n",
    "Lithium-ion,100,45,1.0,0.9,1.05,14,No,105"
   ]
  },
  {
   "cell_type": "markdown",
   "metadata": {},
   "source": [
    "resources:\n",
    "- https://www.mdpi.com/2078-2489/15/3/124\n",
    "- -https://www.sciencedirect.com/science/article/pii/S2666546824001174#sec0002\n",
    "- https://link.springer.com/article/10.1007/s42979-024-03046-2#additional-information\n",
    "- -https://www.sciencedirect.com/topics/engineering/battery-life#:~:text=4.4.,-3.2.&text=Since%20the%20grid%20oxidation%20reaction,generating%20electronic%20components%20whenever%20possible\n",
    "- -https://www.nature.com/articles/srep12967#:~:text=The%20degradation%20rate%20of%20the%20charge%20transfer,found%20to%20increase%20from%204.22%%20to%2013.24%\n",
    "- nominal capacity https://www.sciencedirect.com/topics/engineering/nominal-capacity\n",
    "- battery discharge https://www.sciencedirect.com/topics/engineering/battery-discharge"
   ]
  }
 ],
 "metadata": {
  "kernelspec": {
   "display_name": "Python 3",
   "language": "python",
   "name": "python3"
  },
  "language_info": {
   "codemirror_mode": {
    "name": "ipython",
    "version": 3
   },
   "file_extension": ".py",
   "mimetype": "text/x-python",
   "name": "python",
   "nbconvert_exporter": "python",
   "pygments_lexer": "ipython3",
   "version": "3.13.0"
  }
 },
 "nbformat": 4,
 "nbformat_minor": 2
}
