{
 "cells": [
  {
   "cell_type": "markdown",
   "metadata": {},
   "source": [
    "# Creating and understanding the features of the model and the Characteristics of the Dataset\n",
    "\n",
    "## Problem Statement\n",
    "This project aims to Create a USB charger with an RGB wire that displays charge levels based on color.\n",
    "\n",
    "## Methodology\n",
    "The ML model will be used to predict the lifespan, battery condition, replacement needed or not, and charging time of the battery overtime.\n",
    "\n",
    "The model will be trained on the battery's charging and discharging data. \"How long is the battery taking to get full?\" How frequently is the battery being charged?\n",
    "\n",
    "The model will predict the battery's lifespan based on the number of charging and discharging cycles.\n",
    "\n",
    "Factors like Rate of charging, Temperature during charge, Voltage, Current, and Time will be considered for the model.\n",
    " \n",
    "We also MAY need to consider factors like Battery type.\n",
    "\n",
    "- As a battery ages and its life decreases, the time it takes to charge typically increases.\n",
    "- A higher temperature generally leads to a shorter battery life.\n",
    "\n",
    "\n",
    "> relation with battery life and temperature.\n",
    "charging temps do matter. as a matter of fact, more temp can be bad for the battery and lead to lesser life.\n",
    "we can do it this way: keep a points system. if the battery temp for almost 5 charges is too high than a \"threshold\" temperature, then point can be added. and if the points exceed a certain limit, then the battery is considered to be in bad condition, or we can say it has impacted the life of the battery.\n"
   ]
  },
  {
   "cell_type": "markdown",
   "metadata": {},
   "source": [
    "resources:\n",
    "- https://www.mdpi.com/2078-2489/15/3/124\n",
    "- ⭐https://www.sciencedirect.com/science/article/pii/S2666546824001174#sec0002\n",
    "- https://link.springer.com/article/10.1007/s42979-024-03046-2#additional-information\n",
    "- ⭐⭐https://www.sciencedirect.com/topics/engineering/battery-life#:~:text=4.4.,-3.2.&text=Since%20the%20grid%20oxidation%20reaction,generating%20electronic%20components%20whenever%20possible.\n",
    "- nominal capacity https://www.sciencedirect.com/topics/engineering/nominal-capacity\n",
    "- battery discharge https://www.sciencedirect.com/topics/engineering/battery-discharge"
   ]
  }
 ],
 "metadata": {
  "language_info": {
   "name": "python"
  }
 },
 "nbformat": 4,
 "nbformat_minor": 2
}
